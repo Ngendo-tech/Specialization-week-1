{
  "nbformat": 4,
  "nbformat_minor": 0,
  "metadata": {
    "colab": {
      "provenance": [],
      "authorship_tag": "ABX9TyNaQjRg96dT99pGANL1QxWw",
      "include_colab_link": true
    },
    "kernelspec": {
      "name": "python3",
      "display_name": "Python 3"
    },
    "language_info": {
      "name": "python"
    }
  },
  "cells": [
    {
      "cell_type": "markdown",
      "metadata": {
        "id": "view-in-github",
        "colab_type": "text"
      },
      "source": [
        "<a href=\"https://colab.research.google.com/github/Ngendo-tech/Specialization-week-1/blob/main/Crypto_Buddy.ipynb\" target=\"_parent\"><img src=\"https://colab.research.google.com/assets/colab-badge.svg\" alt=\"Open In Colab\"/></a>"
      ]
    },
    {
      "cell_type": "code",
      "execution_count": null,
      "metadata": {
        "colab": {
          "base_uri": "https://localhost:8080/"
        },
        "id": "pTjSd20c_CMA",
        "outputId": "8395a59b-fe3f-4d22-9e2b-dbe69ef077e2"
      },
      "outputs": [
        {
          "output_type": "stream",
          "name": "stdout",
          "text": [
            "Requirement already satisfied: matplotlib in /usr/local/lib/python3.11/dist-packages (3.10.0)\n",
            "Requirement already satisfied: contourpy>=1.0.1 in /usr/local/lib/python3.11/dist-packages (from matplotlib) (1.3.2)\n",
            "Requirement already satisfied: cycler>=0.10 in /usr/local/lib/python3.11/dist-packages (from matplotlib) (0.12.1)\n",
            "Requirement already satisfied: fonttools>=4.22.0 in /usr/local/lib/python3.11/dist-packages (from matplotlib) (4.58.2)\n",
            "Requirement already satisfied: kiwisolver>=1.3.1 in /usr/local/lib/python3.11/dist-packages (from matplotlib) (1.4.8)\n",
            "Requirement already satisfied: numpy>=1.23 in /usr/local/lib/python3.11/dist-packages (from matplotlib) (2.0.2)\n",
            "Requirement already satisfied: packaging>=20.0 in /usr/local/lib/python3.11/dist-packages (from matplotlib) (24.2)\n",
            "Requirement already satisfied: pillow>=8 in /usr/local/lib/python3.11/dist-packages (from matplotlib) (11.2.1)\n",
            "Requirement already satisfied: pyparsing>=2.3.1 in /usr/local/lib/python3.11/dist-packages (from matplotlib) (3.2.3)\n",
            "Requirement already satisfied: python-dateutil>=2.7 in /usr/local/lib/python3.11/dist-packages (from matplotlib) (2.9.0.post0)\n",
            "Requirement already satisfied: six>=1.5 in /usr/local/lib/python3.11/dist-packages (from python-dateutil>=2.7->matplotlib) (1.17.0)\n"
          ]
        }
      ],
      "source": [
        "pip install matplotlib"
      ]
    },
    {
      "cell_type": "code",
      "source": [
        "import numpy as np\n",
        "import pandas as pd\n",
        "import matplotlib.pyplot as plt\n",
        "import seaborn as sns"
      ],
      "metadata": {
        "id": "U0SQ_jQS_VF7"
      },
      "execution_count": null,
      "outputs": []
    },
    {
      "cell_type": "code",
      "source": [
        "crypto_db = {\n",
        "    \"Bitcoin\": {\n",
        "        \"price_trend\": \"rising\",\n",
        "        \"market_cap\": \"high\",\n",
        "        \"energy_use\": \"high\",\n",
        "        \"sustainability_score\": 3/10\n",
        "    },\n",
        "    \"Ethereum\": {\n",
        "        \"price_trend\": \"stable\",\n",
        "        \"market_cap\": \"high\",\n",
        "        \"energy_use\": \"medium\",\n",
        "        \"sustainability_score\": 6/10\n",
        "    },\n",
        "    \"Cardano\": {\n",
        "        \"price_trend\": \"rising\",\n",
        "        \"market_cap\": \"medium\",\n",
        "        \"energy_use\": \"low\",\n",
        "        \"sustainability_score\": 8/10\n",
        "    }\n",
        "}"
      ],
      "metadata": {
        "id": "_snXNmdoADA6"
      },
      "execution_count": null,
      "outputs": []
    },
    {
      "cell_type": "markdown",
      "source": [
        "Chatbot"
      ],
      "metadata": {
        "id": "2tSFi5vTE_um"
      }
    },
    {
      "cell_type": "code",
      "source": [
        "def chatbot():\n",
        "  \"\"\"A simple chatbot to answer queries about cryptocurrencies based on crypto_db.\"\"\""
      ],
      "metadata": {
        "id": "hqlGdVCCE-PQ"
      },
      "execution_count": null,
      "outputs": []
    },
    {
      "cell_type": "code",
      "source": [
        "user_query = input(\"Ask me about crypto: \").lower()\n"
      ],
      "metadata": {
        "colab": {
          "base_uri": "https://localhost:8080/"
        },
        "id": "aHjkB7QRBL38",
        "outputId": "518af5f2-eb1b-42fc-ec85-a281ecfd4094"
      },
      "execution_count": null,
      "outputs": [
        {
          "name": "stdout",
          "output_type": "stream",
          "text": [
            "Ask me about crypto: sustainable\n"
          ]
        }
      ]
    },
    {
      "cell_type": "code",
      "source": [
        "if \"sustainable\" in user_query:\n",
        "    recommend = max(crypto_db, key=lambda x: crypto_db[x][\"sustainability_score\"])\n",
        "    print(f\"Invest in {recommend}! 🌱 It’s eco-friendly and has long-term potential!\")"
      ],
      "metadata": {
        "colab": {
          "base_uri": "https://localhost:8080/"
        },
        "id": "ArdHQnmSCRlc",
        "outputId": "07347f11-7f52-4969-f21e-ccd99a4e5daa"
      },
      "execution_count": null,
      "outputs": [
        {
          "output_type": "stream",
          "name": "stdout",
          "text": [
            "Invest in Cardano! 🌱 It’s eco-friendly and has long-term potential!\n"
          ]
        }
      ]
    },
    {
      "cell_type": "markdown",
      "source": [
        "Profitability"
      ],
      "metadata": {
        "id": "__QygCWuCnyb"
      }
    },
    {
      "cell_type": "code",
      "source": [
        "price_trend = \"rising\"\n",
        "market_cap = \"high\""
      ],
      "metadata": {
        "id": "CU1Y7Y0RC9el"
      },
      "execution_count": null,
      "outputs": []
    },
    {
      "cell_type": "markdown",
      "source": [
        "Sustainability"
      ],
      "metadata": {
        "id": "d3kD0g5rDP9b"
      }
    },
    {
      "source": [
        "energy_use = \"low\"\n",
        "# Define the variable sustainability_score with a value.\n",
        "sustainability_score = 0.8 # Assign a sample value, you might need to adjust this based on your logic.\n",
        "sustainability_score > 7/10"
      ],
      "cell_type": "code",
      "metadata": {
        "colab": {
          "base_uri": "https://localhost:8080/"
        },
        "id": "Tf14m4sVEK3J",
        "outputId": "4c083c98-cb00-4f98-c3f4-5be556e6da83"
      },
      "execution_count": null,
      "outputs": [
        {
          "output_type": "execute_result",
          "data": {
            "text/plain": [
              "True"
            ]
          },
          "metadata": {},
          "execution_count": 20
        }
      ]
    },
    {
      "cell_type": "code",
      "source": [
        "chatbot()"
      ],
      "metadata": {
        "id": "EtMvGUj-Eu_o"
      },
      "execution_count": null,
      "outputs": []
    },
    {
      "cell_type": "code",
      "source": [
        "!git config --global user.email \"ngendomartha0@gmail.com\"\n",
        "!git config --global user.name \"Ngendo-tech\""
      ],
      "metadata": {
        "id": "Z1zX5VrKIjvv"
      },
      "execution_count": 34,
      "outputs": []
    }
  ]
}